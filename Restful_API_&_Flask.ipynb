{
  "nbformat": 4,
  "nbformat_minor": 0,
  "metadata": {
    "colab": {
      "provenance": []
    },
    "kernelspec": {
      "name": "python3",
      "display_name": "Python 3"
    },
    "language_info": {
      "name": "python"
    }
  },
  "cells": [
    {
      "cell_type": "markdown",
      "source": [
        "1-What is a RESTful API."
      ],
      "metadata": {
        "id": "wJefw9PrFj9v"
      }
    },
    {
      "cell_type": "markdown",
      "source": [
        "Ans-A RESTful API (Representational State Transfer API) is a way for computer systems to communicate over the web using standard HTTP methods. It follows the REST architectural style, which emphasizes simplicity, statelessness, and the use of resources identified by URLs."
      ],
      "metadata": {
        "id": "kEVVELuoFqYw"
      }
    },
    {
      "cell_type": "markdown",
      "source": [
        "2-Explain the concept of API specification."
      ],
      "metadata": {
        "id": "bbP5uGZKFsWw"
      }
    },
    {
      "cell_type": "markdown",
      "source": [
        "Ans-An API specification is a detailed blueprint that describes how an API works, what it can do, and how developers can interact with it.\n",
        "\n",
        "It acts like a contract between the API provider (server) and the API consumer (client).\n",
        "\n",
        "Think of it like:\n",
        "📖 A recipe for an API — listing ingredients (endpoints, parameters, authentication) and instructions (HTTP methods, responses, error codes)."
      ],
      "metadata": {
        "id": "MowFPyMtF2BQ"
      }
    },
    {
      "cell_type": "markdown",
      "source": [
        "3-What is Flask, and why is it popular for building APIs."
      ],
      "metadata": {
        "id": "KvAzzYpsF3iO"
      }
    },
    {
      "cell_type": "markdown",
      "source": [
        "Ans-Flask is a lightweight, open-source Python web framework used to build web applications and APIs.\n",
        "\n",
        "It’s classified as a “microframework” because it provides the essentials (routing, request handling, etc.) without forcing a specific project structure or including too many built-in features.\n",
        "\n",
        "Developers can extend it with plugins for databases, authentication, or any other functionality."
      ],
      "metadata": {
        "id": "r2Nc9cR_F9ZW"
      }
    },
    {
      "cell_type": "markdown",
      "source": [
        "4-What is routing in Flask"
      ],
      "metadata": {
        "id": "gaZAelBcGEM9"
      }
    },
    {
      "cell_type": "markdown",
      "source": [
        "Ans-In Flask, routing is the process of mapping a URL (web address) to a specific function in your code.\n",
        "\n",
        "When a user visits a URL in the browser or makes an API request, Flask looks for a route that matches the request.\n",
        "\n",
        "The function linked to that route is called a view function, and it returns a response (HTML, JSON, text, etc.)."
      ],
      "metadata": {
        "id": "OPHiSMC0GMLN"
      }
    },
    {
      "cell_type": "markdown",
      "source": [
        "5- How do you create a simple Flask application."
      ],
      "metadata": {
        "id": "QeMXb4sSGQXl"
      }
    },
    {
      "cell_type": "markdown",
      "source": [
        "Ans-Let’s walk through creating a very simple Flask application step by step"
      ],
      "metadata": {
        "id": "OD8maE9JGffN"
      }
    },
    {
      "cell_type": "markdown",
      "source": [
        "nstall Flask\n",
        "\n",
        "Make sure Flask is installed in your Python environment:"
      ],
      "metadata": {
        "id": "sbsdLeCSGkHP"
      }
    },
    {
      "cell_type": "code",
      "source": [
        "pip install flask\n"
      ],
      "metadata": {
        "id": "uMlrLXAPGk9W"
      },
      "execution_count": null,
      "outputs": []
    },
    {
      "cell_type": "markdown",
      "source": [
        "Step 2: Create a File (e.g., app.py)"
      ],
      "metadata": {
        "id": "14ehdulJGqr9"
      }
    },
    {
      "cell_type": "code",
      "source": [
        "from flask import Flask\n",
        "\n",
        "\n",
        "app = Flask(__name__)\n",
        "\n",
        "@app.route('/')\n",
        "def home():\n",
        "    return \"Hello, Flask! 🚀\"\n",
        "\n",
        "if __name__ == '__main__':\n",
        "    app.run(debug=True)\n"
      ],
      "metadata": {
        "id": "yuZdoALsGs6V"
      },
      "execution_count": null,
      "outputs": []
    },
    {
      "cell_type": "markdown",
      "source": [
        "Step 3: Run the App"
      ],
      "metadata": {
        "id": "PKimolJhGyJI"
      }
    },
    {
      "cell_type": "code",
      "source": [
        "python app.py\n"
      ],
      "metadata": {
        "id": "jCbIDeaaG2Ne"
      },
      "execution_count": null,
      "outputs": []
    },
    {
      "cell_type": "markdown",
      "source": [
        "Open in Browser\n",
        "\n",
        "Go to http://127.0.0.1:5000/ → You’ll see:\n",
        "Hello, Flask! 🚀"
      ],
      "metadata": {
        "id": "2OMic0aOG4bO"
      }
    },
    {
      "cell_type": "markdown",
      "source": [
        "6-What are HTTP methods used in RESTful APIs."
      ],
      "metadata": {
        "id": "88qu4PCEHBMt"
      }
    },
    {
      "cell_type": "markdown",
      "source": [
        "Ans-GET → Read\n",
        "\n",
        "POST → Create\n",
        "\n",
        "PUT → Replace\n",
        "\n",
        "PATCH → Modify partially\n",
        "\n",
        "DELETE → Remove"
      ],
      "metadata": {
        "id": "TTKxRflMHGOl"
      }
    },
    {
      "cell_type": "markdown",
      "source": [
        "7-What is the purpose of the @app.route() decorator in Flask."
      ],
      "metadata": {
        "id": "14vYIjUsHXTV"
      }
    },
    {
      "cell_type": "markdown",
      "source": [
        "Ans-Purpose of @app.route() in Flask\n",
        "\n",
        "In Flask, the @app.route() decorator is used to map a URL (route) to a specific function in your application.\n",
        "\n",
        "When someone visits that URL, Flask will execute the function and return its response.\n",
        "\n",
        "This is how Flask connects web requests to Python code."
      ],
      "metadata": {
        "id": "GFWfFiR8Hk9t"
      }
    },
    {
      "cell_type": "markdown",
      "source": [
        "8-What is the difference between GET and POST HTTP methods."
      ],
      "metadata": {
        "id": "qwKXD5-4HsJF"
      }
    },
    {
      "cell_type": "markdown",
      "source": [
        "Ans-GET and POST are fundamental HTTP methods used to request and send data to a web server. The primary difference lies in how they handle data and their intended purpose.\n",
        "\n",
        "GET Method\n",
        "The GET method is used to request data from a specified resource. It's the most common HTTP method and is meant to retrieve information.\n",
        "\n",
        "Data Visibility: Data sent via GET is appended to the URL as query parameters. This makes the data visible in the browser's address bar and also in the browser's history.\n",
        "\n",
        "Safety and Idempotency: GET requests are considered safe and idempotent. Safe means they don't change the state of the server. Idempotent means making the same request multiple times will have the same effect as making it once.\n",
        "\n",
        "Data Limit: GET requests have a limit on the amount of data they can send because of URL length restrictions. This limit varies by browser and server but is generally around 2048 characters.\n",
        "\n",
        "Use Case: Ideal for retrieving data, such as searching for a product, navigating to a new page, or fetching an image.\n",
        "\n",
        "POST Method\n",
        "The POST method is used to submit data to a specified resource to be processed. It is intended for creating or updating a resource on the server.\n",
        "\n",
        "Data Visibility: Data sent via POST is included in the body of the HTTP request. This means the data is not visible in the URL.\n",
        "\n",
        "Safety and Idempotency: POST requests are not safe and not idempotent. They are designed to change the state of the server (e.g., adding a new user, submitting a form).\n",
        "\n",
        "Data Limit: POST requests have no practical limit on the amount of data that can be sent, as the data is in the request body.\n",
        "\n",
        "Use Case: Ideal for submitting form data (e.g., login credentials, user registration), uploading files, or any operation that modifies server-side data."
      ],
      "metadata": {
        "id": "3SGyT1GiHwqt"
      }
    },
    {
      "cell_type": "markdown",
      "source": [
        "9- How do you handle errors in Flask APIs"
      ],
      "metadata": {
        "id": "6YkHNCLSH_IN"
      }
    },
    {
      "cell_type": "markdown",
      "source": [
        "Ans-ou handle errors in Flask APIs by using the @app.errorhandler decorator to register a function that will be called when a specific HTTP error or exception occurs. This allows you to customize the response that the API sends back to the client, providing a clear and consistent error message, often in JSON format.\n",
        "\n"
      ],
      "metadata": {
        "id": "xeAOyH5gIHnN"
      }
    },
    {
      "cell_type": "markdown",
      "source": [
        "10-M How do you connect Flask to a SQL database."
      ],
      "metadata": {
        "id": "DEh8oDlAIJ8G"
      }
    },
    {
      "cell_type": "markdown",
      "source": [
        "Ans-o connect Flask to a SQL database, you typically use a Flask-specific extension that acts as an Object-Relational Mapper (ORM). The most common and recommended extension is Flask-SQLAlchemy, which provides an easy and powerful way to interact with various SQL databases like PostgreSQL, MySQL, SQLite, and others."
      ],
      "metadata": {
        "id": "iO38AzpPIOiG"
      }
    },
    {
      "cell_type": "markdown",
      "source": [
        "11-What is the role of Flask-SQLAlchemy."
      ],
      "metadata": {
        "id": "w2cpqWU8IXk_"
      }
    },
    {
      "cell_type": "markdown",
      "source": [
        "Ans-Flask-SQLAlchemy is a Flask extension that provides a convenient and powerful way to use SQLAlchemy with your Flask applications. Its primary role is to simplify the process of connecting a Flask app to a SQL database by handling many of the complexities involved in database management.\n",
        "\n",
        "Key Roles\n",
        "Object-Relational Mapping (ORM): Flask-SQLAlchemy acts as an ORM, which means it maps Python objects to database tables. Instead of writing raw SQL queries, you interact with your database using Python classes and objects. This makes your code more readable, maintainable, and less prone to SQL injection attacks. For example, instead of writing SELECT * FROM users;, you can simply write User.query.all().\n",
        "\n",
        "Database Session Management: It manages the database session for you. A session is a temporary area where all your database operations (like adding, updating, or deleting data) are queued before they are committed to the database. Flask-SQLAlchemy automatically handles the creation, management, and closing of this session for each request, ensuring a clean and efficient process.\n",
        "\n",
        "Connection Pooling: It manages a pool of database connections, which prevents the overhead of opening and closing a new connection for every single request. This significantly improves the performance of your application, especially under high traffic.\n",
        "\n",
        "Simplified Configuration: It simplifies the configuration of your database connection. Instead of writing a complex series of database connection parameters, you only need to set a single SQLALCHEMY_DATABASE_URI configuration variable in your Flask app.\n",
        "\n",
        "Schema and Migration Management: While it doesn't handle migrations on its own, it works seamlessly with extensions like Flask-Migrate to manage database schema changes. This allows you to easily evolve your database structure as your application grows, without losing data."
      ],
      "metadata": {
        "id": "W65hr78IJno3"
      }
    },
    {
      "cell_type": "markdown",
      "source": [
        "12-What are Flask blueprints, and how are they useful."
      ],
      "metadata": {
        "id": "ZDciZ8mSKBKF"
      }
    },
    {
      "cell_type": "markdown",
      "source": [
        "Ans-Flask blueprints are a way to organize a Flask application into smaller, reusable components. Instead of defining all your routes, templates, and static files in a single, large application file, you can group related functionalities into a Blueprint. Think of a blueprint as a mini-application that can be registered with a main Flask application.\n",
        "\n",
        "How They Are Useful\n",
        "Modularity and Organization: Blueprints help structure a large application by breaking it down into logical parts. For example, in a blog application, you could have separate blueprints for \"authentication,\" \"user profiles,\" and \"blog posts.\" This makes your codebase easier to navigate and understand.\n",
        "\n",
        "Reusability: A blueprint can be registered with multiple Flask applications. For instance, you could create a generic \"authentication\" blueprint and use it in several different projects without rewriting the code.\n",
        "\n",
        "URL Prefixes: Blueprints allow you to easily manage URL prefixes. You can register a blueprint with a URL prefix, so all the routes within that blueprint automatically start with that prefix. This is useful for creating API versions or separate sections of a website (e.g., /admin/users, /admin/products).\n",
        "\n",
        "Separation of Concerns: Blueprints help enforce the principle of separation of concerns. The code for a specific feature, like user management, is contained entirely within its own blueprint, keeping it isolated from other parts of the application.\n",
        "\n",
        "Simplified Development: When working in a team, each developer can work on a separate blueprint without interfering with the others. This makes collaborative development much more efficient."
      ],
      "metadata": {
        "id": "FdawoTCCKLC1"
      }
    },
    {
      "cell_type": "markdown",
      "source": [
        "13-What is the purpose of Flask's request object."
      ],
      "metadata": {
        "id": "Td36qud-KTSd"
      }
    },
    {
      "cell_type": "markdown",
      "source": [
        "Ans-The request object in Flask is a global object that provides access to incoming request data from the client. Its main purpose is to let your application inspect and interact with the HTTP request sent by a web browser or API client. This includes things like form data, URL parameters, headers, and the request body.\n",
        "\n",
        "Key Attributes and Their Purpose\n",
        "The request object is an instance of the Request class and has several useful attributes:\n",
        "\n",
        "request.form: Used to access data from an HTML form that was submitted with the POST method. It's a dictionary-like object where keys are the form field names and values are the user-submitted data."
      ],
      "metadata": {
        "id": "5AnsGQ8oKdiF"
      }
    },
    {
      "cell_type": "markdown",
      "source": [
        "14-How do you create a RESTful API endpoint using Flask."
      ],
      "metadata": {
        "id": "mrkFDlMJKj-8"
      }
    },
    {
      "cell_type": "markdown",
      "source": [
        "Ans-To create a RESTful API endpoint using Flask, you typically define a route that handles specific HTTP methods and returns a JSON response. You'll need to use Flask's request object to handle incoming data and the jsonify function to format your output."
      ],
      "metadata": {
        "id": "a6GUtCszKokl"
      }
    },
    {
      "cell_type": "markdown",
      "source": [
        "To create a RESTful API endpoint using Flask, you typically define a route that handles specific HTTP methods and returns a JSON response. You'll need to use Flask's request object to handle incoming data and the jsonify function to format your output.\n",
        "\n",
        "1. Set Up the Basic Flask App\n",
        "First, import Flask, request, and jsonify. Then, initialize your Flask app."
      ],
      "metadata": {
        "id": "-3Zl6srHK321"
      }
    },
    {
      "cell_type": "code",
      "source": [
        "from flask import Flask, request, jsonify\n",
        "\n",
        "app = Flask(__name__)"
      ],
      "metadata": {
        "id": "DNFllJJwK4nX"
      },
      "execution_count": null,
      "outputs": []
    },
    {
      "cell_type": "markdown",
      "source": [
        "2. Define Your Endpoint with HTTP Methods\n",
        "Use the @app.route() decorator to define the URL for your endpoint. The methods parameter specifies which HTTP methods (like GET, POST, PUT, DELETE) the route should respond to."
      ],
      "metadata": {
        "id": "JzTZyNRUK6wN"
      }
    },
    {
      "cell_type": "code",
      "source": [
        "\n",
        "items = []\n",
        "\n",
        "@app.route('/api/items', methods=['GET', 'POST'])\n",
        "def manage_items():\n",
        "    if request.method == 'GET':\n",
        "\n",
        "        return jsonify(items)\n",
        "    elif request.method == 'POST':\n",
        "\n",
        "        new_item = request.json\n",
        "        if not new_item or 'name' not in new_item:\n",
        "            return jsonify({\"error\": \"Invalid request\"}), 400\n",
        "\n",
        "        items.append(new_item)\n",
        "        return jsonify(new_item),"
      ],
      "metadata": {
        "id": "iUiQBuDpK95N"
      },
      "execution_count": null,
      "outputs": []
    },
    {
      "cell_type": "markdown",
      "source": [
        "GET Method: This part of the function handles a request to retrieve all items. It returns the list of items formatted as a JSON array using jsonify().\n",
        "\n",
        "POST Method: This part handles creating a new item. It accesses the JSON data from the request body using request.json and appends the new item to the list. It then returns the newly created item with a 201 Created HTTP status code.\n",
        "\n",
        "3. Handle Specific Resources (e.g., a single item)\n",
        "You can create dynamic routes to manage individual resources by passing a variable in the URL."
      ],
      "metadata": {
        "id": "PSY8bn8fLK4J"
      }
    },
    {
      "cell_type": "code",
      "source": [
        "@app.route('/api/items/<int:item_id>', methods=['GET', 'PUT', 'DELETE'])\n",
        "def manage_single_item(item_id):\n",
        "\n",
        "    item_found = None\n",
        "    for item in items:\n",
        "        if item.get('id') == item_id:\n",
        "            item_found = item\n",
        "            break\n",
        "\n",
        "    if not item_found:\n",
        "        return jsonify({\"error\": \"Item not found\"}),\n",
        "\n",
        "    if request.method == 'GET':\n",
        "\n",
        "        return jsonify(item_found)\n",
        "    elif request.method == 'PUT':\n",
        "\n",
        "        update_data = request.json\n",
        "        item_found.update(update_data)\n",
        "        return jsonify(item_found)\n",
        "    elif request.method == 'DELETE':\n",
        "\n",
        "        items.remove(item_found)\n",
        "        return jsonify({\"message\": \"Item deleted\"})"
      ],
      "metadata": {
        "id": "XryvXWCwLL29"
      },
      "execution_count": null,
      "outputs": []
    },
    {
      "cell_type": "markdown",
      "source": [
        "15-What is the purpose of Flask's jsonify() function.."
      ],
      "metadata": {
        "id": "Kk4f-iPgLTJl"
      }
    },
    {
      "cell_type": "markdown",
      "source": [
        "Ans-Flask’s jsonify() function is used to easily create a JSON response from Python data structures (like dictionaries or lists) when building APIs or web apps.\n",
        "\n",
        "Purpose of jsonify():\n",
        "\n",
        "Convert Python objects to JSON\n",
        "\n",
        "It automatically serializes Python dictionaries, lists, and other JSON-compatible types into a JSON string.\n",
        "\n",
        "Set the correct MIME type\n",
        "\n",
        "It automatically sets the response’s Content-Type header to application/json, which tells the client that the response is JSON data.\n",
        "\n",
        "Return a Response object\n",
        "\n",
        "Unlike json.dumps(), which just returns a string, jsonify() creates a proper Flask Response object that can be directly returned from a view function."
      ],
      "metadata": {
        "id": "Vmo3xHVyvTuT"
      }
    },
    {
      "cell_type": "markdown",
      "source": [
        "16-Explain Flask’s url_for() function"
      ],
      "metadata": {
        "id": "rRI9t-aMvVIK"
      }
    },
    {
      "cell_type": "markdown",
      "source": [
        "Ans-Flask’s url_for() function is a helper that generates URLs for your routes dynamically, instead of hardcoding them.\n",
        "\n",
        "✅ Purpose of url_for():\n",
        "\n",
        "Generates URLs using function names (endpoints)\n",
        "\n",
        "Instead of writing \"/about\" directly, you call url_for('about').\n",
        "\n",
        "This way, if the route changes later, you only update it in one place (the route definition).\n",
        "\n",
        "Supports query parameters\n",
        "\n",
        "You can pass keyword arguments to generate query strings automatically.\n",
        "\n",
        "Avoids broken links\n",
        "\n",
        "Since URLs are built dynamically from the route definitions, renaming or restructuring routes won’t break your app as long as the endpoint names remain the same."
      ],
      "metadata": {
        "id": "hV1JnSXJveCx"
      }
    },
    {
      "cell_type": "markdown",
      "source": [
        "17-How does Flask handle static files (CSS, JavaScript, etc.)."
      ],
      "metadata": {
        "id": "LkZPLQA5vfhK"
      }
    },
    {
      "cell_type": "markdown",
      "source": [
        "Ans-Flask has a built-in way to serve static files like CSS, JavaScript, and images.\n",
        "\n",
        "🔹 How Flask handles static files\n",
        "\n",
        "Default static/ folder\n",
        "\n",
        "By convention, Flask looks for a folder named static in your project directory.\n",
        "\n",
        "Any files placed there (e.g., style.css, script.js, logo.png) can be accessed automatically at:"
      ],
      "metadata": {
        "id": "WqbZmdLhvkvC"
      }
    },
    {
      "cell_type": "code",
      "source": [
        "http://localhost:5000/static/<filename>\n"
      ],
      "metadata": {
        "id": "AzVGv-nWvqQs"
      },
      "execution_count": null,
      "outputs": []
    },
    {
      "cell_type": "markdown",
      "source": [
        "18-What is an API specification, and how does it help in building a Flask API."
      ],
      "metadata": {
        "id": "AAAs_hWTvsqR"
      }
    },
    {
      "cell_type": "markdown",
      "source": [
        "Ans-API Specification?\n",
        "\n",
        "An API specification is a formal, structured description of how an API works — what endpoints it has, what input/output is expected, and how clients should interact with it.\n",
        "\n",
        "Think of it as a blueprint for your API.\n",
        "\n",
        "Common formats:\n",
        "\n",
        "OpenAPI (Swagger) – the most popular today.\n",
        "\n",
        "RAML, API Blueprint – other specification standards.\n",
        "\n",
        "🔹 What it defines\n",
        "\n",
        "An API specification usually includes:\n",
        "\n",
        "Endpoints (URLs) → e.g., /users, /products/<id>\n",
        "\n",
        "HTTP methods → GET, POST, PUT, DELETE\n",
        "\n",
        "Request data → parameters, query strings, headers, body format (JSON, XML, etc.)\n",
        "\n",
        "Response data → response structure, status codes (200, 404, 500), and example payloads\n",
        "\n",
        "Authentication/Authorization → e.g., API keys, OAuth tokens\n",
        "\n",
        "Error handling → error messages and codes\n",
        "\n",
        "🔹 How it helps in building a Flask API\n",
        "\n",
        "Clarity & Planning 📝\n",
        "\n",
        "Before writing code, you know exactly what routes, inputs, and outputs your API should have.\n",
        "\n",
        "Prevents confusion between frontend and backend developers.\n",
        "\n",
        "Consistency 🔄\n",
        "\n",
        "Ensures that all endpoints follow the same style (naming, responses, errors).\n",
        "\n",
        "Helps scale the API as the project grows.\n",
        "\n",
        "Documentation 📖\n",
        "\n",
        "Developers using your API can read the specification instead of guessing.\n",
        "\n",
        "Tools like Swagger UI can generate interactive docs automatically from the spec.\n",
        "\n",
        "Validation & Testing ✅\n",
        "\n",
        "You can automatically validate requests/responses against the specification.\n",
        "\n",
        "Makes debugging and integration much easier.\n",
        "\n",
        "Collaboration 🤝\n",
        "\n",
        "Frontend and backend teams can work in parallel.\n",
        "\n",
        "Frontend can build against the spec (using mocks), even before the Flask API is fully implemented."
      ],
      "metadata": {
        "id": "sOT_az0ivwey"
      }
    },
    {
      "cell_type": "markdown",
      "source": [
        "19-What are HTTP status codes, and why are they important in a Flask API."
      ],
      "metadata": {
        "id": "ZuK9j-Ixv3_J"
      }
    },
    {
      "cell_type": "markdown",
      "source": [
        "Ans-HTTP Status Codes?\n",
        "\n",
        "HTTP status codes are three-digit numbers returned by a web server (or API) in response to a client’s request.\n",
        "\n",
        "They indicate whether the request was successful, failed, or needs further action.\n",
        "\n",
        "Examples:\n",
        "\n",
        "200 OK → Request succeeded\n",
        "\n",
        "404 Not Found → Resource doesn’t exist\n",
        "\n",
        "500 Internal Server Error → Something went wrong on the server\n",
        "\n",
        "🔹 Categories of Status Codes\n",
        "\n",
        "1xx (Informational) → Request received, still processing\n",
        "\n",
        "2xx (Success) → Request completed successfully\n",
        "\n",
        "200 OK, 201 Created, 204 No Content\n",
        "\n",
        "3xx (Redirection) → Further action needed\n",
        "\n",
        "301 Moved Permanently, 302 Found\n",
        "\n",
        "4xx (Client Error) → Something wrong with the request\n",
        "\n",
        "400 Bad Request, 401 Unauthorized, 403 Forbidden, 404 Not Found\n",
        "\n",
        "5xx (Server Error) → Something wrong on the server\n",
        "\n",
        "500 Internal Server Error, 502 Bad Gateway, 503 Service Unavailable\n",
        "\n",
        "🔹 Why are they important in a Flask API?\n",
        "\n",
        "Communicate outcome clearly\n",
        "\n",
        "Clients (like frontend apps or third-party services) need to know if the request worked or failed.\n",
        "\n",
        "Help debugging\n",
        "\n",
        "If an API returns 400 Bad Request, the client knows the issue is with input, not the server.\n",
        "\n",
        "If it’s 500, the server has a bug.\n",
        "\n",
        "Standardization\n",
        "\n",
        "Status codes are universal → Any developer can understand them without custom explanations.\n",
        "\n",
        "API client logic\n",
        "\n",
        "Clients can take action based on status codes (e.g., retry on 503, prompt login on 401)."
      ],
      "metadata": {
        "id": "9D5MDuFgv8Jy"
      }
    },
    {
      "cell_type": "markdown",
      "source": [
        "20- How do you handle POST requests in Flask."
      ],
      "metadata": {
        "id": "pHyZ_pr6wCKx"
      }
    },
    {
      "cell_type": "markdown",
      "source": [
        "Ans-Handling POST Requests in Flask\n",
        "\n",
        "In Flask, you use the methods=['POST'] argument in your route decorator to handle POST requests.\n",
        "\n",
        "POST requests are typically used to send data from the client to the server (e.g., submitting a form, adding a new user, posting a comment).\n",
        "\n",
        "🔹 Example 1 – Handling POST form data"
      ],
      "metadata": {
        "id": "Vj6zdDVDwNCy"
      }
    },
    {
      "cell_type": "code",
      "source": [
        "from flask import Flask, request, jsonify\n",
        "\n",
        "app = Flask(__name__)\n",
        "\n",
        "@app.route('/submit', methods=['POST'])\n",
        "def submit():\n",
        "    name = request.form.get('name')\n",
        "    age = request.form.get('age')\n",
        "\n",
        "    return jsonify({\"message\": \"Data received\", \"name\": name, \"age\": age}), 201\n"
      ],
      "metadata": {
        "id": "dwCRZmXWwOhp"
      },
      "execution_count": null,
      "outputs": []
    },
    {
      "cell_type": "markdown",
      "source": [
        "21-How would you secure a Flask API."
      ],
      "metadata": {
        "id": "ZNjy86kjwkYS"
      }
    },
    {
      "cell_type": "markdown",
      "source": [
        "Ans-Flask API is critical if you’re exposing data or actions to clients. Let’s go step by step.\n",
        "\n",
        "🔹 Common Ways to Secure a Flask API\n",
        "1. Use HTTPS (TLS/SSL)\n",
        "\n",
        "Always serve your API over HTTPS so data is encrypted in transit.\n",
        "\n",
        "Prevents MITM (Man-in-the-middle) attacks.\n",
        "\n",
        "In production, use something like Nginx + Let’s Encrypt.\n",
        "\n",
        "2. Authentication\n",
        "\n",
        "Ensure only authorized users/apps can access your API.\n",
        "\n",
        "API Keys → Simple method, attach a key in headers:\n",
        "\n",
        "GET /api/data\n",
        "Authorization: ApiKey <your-key>\n",
        "\n",
        "\n",
        "Token-based authentication (JWT) → More secure, supports sessions and expiration.\n",
        "Example with flask-jwt-extended:"
      ],
      "metadata": {
        "id": "PvcNInC2wmIB"
      }
    },
    {
      "cell_type": "code",
      "source": [
        "from flask_jwt_extended import JWTManager, create_access_token, jwt_required\n",
        "\n",
        "app.config[\"JWT_SECRET_KEY\"] = \"supersecret\"\n",
        "jwt = JWTManager(app)\n",
        "\n",
        "@app.route(\"/login\", methods=[\"POST\"])\n",
        "def login():\n",
        "    username = request.json.get(\"username\")\n",
        "\n",
        "    token = create_access_token(identity=username)\n",
        "    return {\"access_token\": token}\n",
        "\n",
        "@app.route(\"/protected\", methods=[\"GET\"])\n",
        "@jwt_required()\n",
        "def protected():\n",
        "    return {\"message\": \"You are authorized!\"}\n"
      ],
      "metadata": {
        "id": "4eBd02zJwxAk"
      },
      "execution_count": null,
      "outputs": []
    },
    {
      "cell_type": "markdown",
      "source": [],
      "metadata": {
        "id": "gr9f6AdOwS4i"
      }
    },
    {
      "cell_type": "markdown",
      "source": [
        "22-What is the significance of the Flask-RESTful extension."
      ],
      "metadata": {
        "id": "jMO92TgZw2zC"
      }
    },
    {
      "cell_type": "markdown",
      "source": [
        "Ans-Flask-RESTful is an extension for Flask that makes it easier to build RESTful APIs.\n",
        "It sits on top of Flask and provides tools, classes, and helpers for quickly creating clean, structured APIs.\n",
        "\n",
        "🔹 Significance / Why it’s useful\n",
        "1. Class-based Resources\n",
        "\n",
        "Instead of writing routes with function decorators, you define APIs as resource classes.\n",
        "\n",
        "This keeps code organized and reusable."
      ],
      "metadata": {
        "id": "ftofD1Z5w6f5"
      }
    },
    {
      "cell_type": "code",
      "source": [
        "from flask import Flask\n",
        "from flask_restful import Resource, Api\n",
        "\n",
        "app = Flask(__name__)\n",
        "api = Api(app)\n",
        "\n",
        "class Hello(Resource):\n",
        "    def get(self):\n",
        "        return {\"message\": \"Hello, Flask-RESTful!\"}\n",
        "\n",
        "api.add_resource(Hello, '/hello')\n"
      ],
      "metadata": {
        "id": "oHMYm88PxAbC"
      },
      "execution_count": null,
      "outputs": []
    },
    {
      "cell_type": "markdown",
      "source": [
        "22-What is the role of Flask’s session object."
      ],
      "metadata": {
        "id": "crMIXFtQxMPi"
      }
    },
    {
      "cell_type": "markdown",
      "source": [
        "Ans-session object in Flask is all about keeping track of data across multiple requests from the same user.\n",
        "\n",
        "🔹 What is Flask’s session?\n",
        "\n",
        "session is a dictionary-like object that stores data for a user between requests.\n",
        "\n",
        "It uses cookies under the hood, so each client has its own session.\n",
        "\n",
        "Flask signs the session data (with SECRET_KEY) to prevent tampering.\n",
        "\n",
        "🔹 Why is it useful?\n",
        "\n",
        "HTTP is stateless → each request is independent.\n",
        "If you want to “remember” things like:\n",
        "\n",
        "Whether a user is logged in\n",
        "\n",
        "Items in a shopping cart\n",
        "\n",
        "Preferences (theme, language)\n",
        "\n",
        "You store them in session.\n",
        "\n",
        "🔹 Example"
      ],
      "metadata": {
        "id": "LWViWlscxOBa"
      }
    },
    {
      "cell_type": "code",
      "source": [
        "from flask import Flask, session, redirect, url_for, request\n",
        "\n",
        "app = Flask(__name__)\n",
        "app.secret_key = \"supersecret\"\n",
        "\n",
        "@app.route('/login', methods=['POST'])\n",
        "def login():\n",
        "    session['username'] = request.form['username']\n",
        "    return f\"Logged in as {session['username']}\"\n",
        "\n",
        "@app.route('/profile')\n",
        "def profile():\n",
        "    if 'username' in session:\n",
        "        return f\"Welcome back, {session['username']}!\"\n",
        "    return \"You are not logged in.\"\n",
        "\n",
        "@app.route('/logout')\n",
        "def logout():\n",
        "    session.pop('username', None)\n",
        "    return \"Logged out!\"\n"
      ],
      "metadata": {
        "id": "HgH6E_1zxUlq"
      },
      "execution_count": null,
      "outputs": []
    },
    {
      "cell_type": "markdown",
      "source": [
        "**Practical**"
      ],
      "metadata": {
        "id": "lC1dBcPtxbp8"
      }
    },
    {
      "cell_type": "markdown",
      "source": [
        "1-M How do you create a basic Flask application."
      ],
      "metadata": {
        "id": "A5O8k03YxhYF"
      }
    },
    {
      "cell_type": "markdown",
      "source": [
        "Ans-Creating a Basic Flask Application\n",
        "1. Install Flask\n",
        "\n",
        "Make sure Flask is installed:"
      ],
      "metadata": {
        "id": "GlRgrhxrxl2i"
      }
    },
    {
      "cell_type": "code",
      "source": [
        "pip install flask\n"
      ],
      "metadata": {
        "id": "db3buxrXxtRi"
      },
      "execution_count": null,
      "outputs": []
    },
    {
      "cell_type": "markdown",
      "source": [
        "2. Create app.py"
      ],
      "metadata": {
        "id": "lAV7kfKJxvAa"
      }
    },
    {
      "cell_type": "code",
      "source": [
        "from flask import Flask\n",
        "\n",
        "\n",
        "app = Flask(__name__)\n",
        "\n",
        "@app.route('/')\n",
        "def home():\n",
        "    return \"Hello, Flask! 🎉\"\n",
        "if __name__ == '__main__':\n",
        "    app.run(debug=True)\n"
      ],
      "metadata": {
        "id": "Cfve6_uOxxWz"
      },
      "execution_count": null,
      "outputs": []
    },
    {
      "cell_type": "markdown",
      "source": [
        "3. Run the application\n",
        "\n",
        "In terminal:"
      ],
      "metadata": {
        "id": "Zlvwx784yB7a"
      }
    },
    {
      "cell_type": "code",
      "source": [
        "python app.py\n"
      ],
      "metadata": {
        "id": "Y2kUc4JAyCmF"
      },
      "execution_count": null,
      "outputs": []
    },
    {
      "cell_type": "markdown",
      "source": [
        "4. Add another route (example)"
      ],
      "metadata": {
        "id": "PcDDmRqzyEtS"
      }
    },
    {
      "cell_type": "code",
      "source": [
        "@app.route('/about')\n",
        "def about():\n",
        "    return \"This is the About Page\"\n"
      ],
      "metadata": {
        "id": "WVg7PBW6yIiV"
      },
      "execution_count": null,
      "outputs": []
    },
    {
      "cell_type": "markdown",
      "source": [
        "2- How do you serve static files like images or CSS in Flask."
      ],
      "metadata": {
        "id": "lbyT0kdpyMgh"
      }
    },
    {
      "cell_type": "markdown",
      "source": [
        "Ans-🔹 How Flask Serves Static Files\n",
        "\n",
        "Flask has a built-in way to serve static files:\n",
        "\n",
        "Default static/ folder\n",
        "\n",
        "By convention, create a folder named static in your project.\n",
        "\n",
        "Place files like style.css, script.js, logo.png there.\n",
        "\n",
        "Flask automatically makes them available at:"
      ],
      "metadata": {
        "id": "cKS9Tc1IydT_"
      }
    },
    {
      "cell_type": "code",
      "source": [
        "http://localhost:5000/static/<filename>\n"
      ],
      "metadata": {
        "id": "rWm3It14yony"
      },
      "execution_count": null,
      "outputs": []
    },
    {
      "cell_type": "markdown",
      "source": [
        "Example Project Structure"
      ],
      "metadata": {
        "id": "x6bclGX6yqge"
      }
    },
    {
      "cell_type": "code",
      "source": [
        "project/\n",
        "│── app.py\n",
        "│── static/\n",
        "│     ├── style.css\n",
        "│     ├── script.js\n",
        "│     └── images/\n",
        "│          └── logo.png\n",
        "│── templates/\n",
        "      └── index.html\n"
      ],
      "metadata": {
        "id": "K4zgcsjcysjO"
      },
      "execution_count": null,
      "outputs": []
    },
    {
      "cell_type": "markdown",
      "source": [
        "Example Usage in HTML"
      ],
      "metadata": {
        "id": "bdYLIjWjyuRc"
      }
    },
    {
      "cell_type": "code",
      "source": [
        "<!DOCTYPE html>\n",
        "<html>\n",
        "<head>\n",
        "    <title>Static Files in Flask</title>\n",
        "    <!-- Linking CSS -->\n",
        "    <link rel=\"stylesheet\" href=\"{{ url_for('static', filename='style.css') }}\">\n",
        "</head>\n",
        "<body>\n",
        "    <h1>Hello Flask!</h1>\n",
        "\n",
        "    <!-- Adding an image -->\n",
        "    <img src=\"{{ url_for('static', filename='images/logo.png') }}\" alt=\"Logo\">\n",
        "\n",
        "    <!-- Adding JavaScript -->\n",
        "    <script src=\"{{ url_for('static', filename='script.js') }}\"></script>\n",
        "</body>\n",
        "</html>\n"
      ],
      "metadata": {
        "id": "xAMPV1nOy0AW"
      },
      "execution_count": null,
      "outputs": []
    },
    {
      "cell_type": "markdown",
      "source": [
        "Flask App (app.py)"
      ],
      "metadata": {
        "id": "1MS_ONnhy1cj"
      }
    },
    {
      "cell_type": "code",
      "source": [
        "from flask import Flask, render_template\n",
        "\n",
        "app = Flask(__name__)\n",
        "\n",
        "@app.route('/')\n",
        "def home():\n",
        "    return render_template('index.html')\n",
        "\n",
        "if __name__ == '__main__':\n",
        "    app.run(debug=True)\n"
      ],
      "metadata": {
        "id": "kj9zeWiSy5aM"
      },
      "execution_count": null,
      "outputs": []
    },
    {
      "cell_type": "markdown",
      "source": [
        "3-How do you define different routes with different HTTP methods in Flask."
      ],
      "metadata": {
        "id": "8N2AukOpy7na"
      }
    },
    {
      "cell_type": "markdown",
      "source": [
        "Ans-Basic Route with Multiple Methods\n",
        "\n",
        "By default, a Flask route only responds to GET requests.\n",
        "To allow more, pass methods=[...] to @app.route."
      ],
      "metadata": {
        "id": "8xR51hMtLUaF"
      }
    },
    {
      "cell_type": "code",
      "source": [
        "from flask import Flask, request\n",
        "\n",
        "app = Flask(__name__)\n",
        "\n",
        "@app.route('/user', methods=['GET', 'POST'])\n",
        "def user():\n",
        "    if request.method == 'GET':\n",
        "        return \"GET request → Fetch user data\"\n",
        "    elif request.method == 'POST':\n",
        "        return \"POST request → Create a new user\"\n"
      ],
      "metadata": {
        "id": "066buCdLLcrV"
      },
      "execution_count": null,
      "outputs": []
    },
    {
      "cell_type": "markdown",
      "source": [
        "Example with Different Routes + Methods"
      ],
      "metadata": {
        "id": "M3oJCIzyLqrV"
      }
    },
    {
      "cell_type": "code",
      "source": [
        "@app.route('/user/<int:user_id>', methods=['GET', 'PUT', 'DELETE'])\n",
        "def manage_user(user_id):\n",
        "    if request.method == 'GET':\n",
        "        return f\"Fetching user {user_id}\"\n",
        "    elif request.method == 'PUT':\n",
        "        return f\"Updating user {user_id}\"\n",
        "    elif request.method == 'DELETE':\n",
        "        return f\"Deleting user {user_id}\"\n"
      ],
      "metadata": {
        "id": "qXFpc5vXLr0t"
      },
      "execution_count": null,
      "outputs": []
    },
    {
      "cell_type": "markdown",
      "source": [
        "Cleaner Way → Method-Specific Functions\n",
        "\n",
        "Sometimes it’s cleaner to define separate routes:"
      ],
      "metadata": {
        "id": "eaEdsW3TLuAI"
      }
    },
    {
      "cell_type": "code",
      "source": [
        "@app.route('/login', methods=['POST'])\n",
        "def login():\n",
        "    return \"Login with POST\"\n",
        "\n",
        "@app.route('/logout', methods=['GET'])\n",
        "def logout():\n",
        "    return \"Logout with GET\"\n"
      ],
      "metadata": {
        "id": "F7FFz2kuLwUP"
      },
      "execution_count": null,
      "outputs": []
    },
    {
      "cell_type": "markdown",
      "source": [
        "Using Class-Based Views (Flask-RESTful style)\n",
        "\n",
        "For APIs, class-based views let you map methods directly:"
      ],
      "metadata": {
        "id": "F3EkXNgWL1UY"
      }
    },
    {
      "cell_type": "code",
      "source": [
        "from flask.views import MethodView\n",
        "\n",
        "class ItemAPI(MethodView):\n",
        "    def get(self, item_id):\n",
        "        return f\"GET item {item_id}\"\n",
        "    def post(self):\n",
        "        return \"POST new item\"\n",
        "    def put(self, item_id):\n",
        "        return f\"PUT update item {item_id}\"\n",
        "    def delete(self, item_id):\n",
        "        return f\"DELETE item {item_id}\"\n",
        "\n",
        "\n",
        "app.add_url_rule('/item', view_func=ItemAPI.as_view('items'))\n",
        "app.add_url_rule('/item/<int:item_id>', view_func=ItemAPI.as_view('item_detail'))\n"
      ],
      "metadata": {
        "id": "42F6oKpeL3HV"
      },
      "execution_count": null,
      "outputs": []
    },
    {
      "cell_type": "markdown",
      "source": [
        "5-How do you render HTML templates in Flask."
      ],
      "metadata": {
        "id": "48kuUUyKMD2d"
      }
    },
    {
      "cell_type": "markdown",
      "source": [
        "Ans-Step 1: Project Structure\n",
        "\n",
        "By convention, Flask looks for HTML templates inside a templates/ folder."
      ],
      "metadata": {
        "id": "ScLPD-IOMF4E"
      }
    },
    {
      "cell_type": "code",
      "source": [
        "project/\n",
        "│── app.py\n",
        "│── templates/\n",
        "│     ├── index.html\n",
        "│     └── about.html\n"
      ],
      "metadata": {
        "id": "GlfUOD6IMM5E"
      },
      "execution_count": null,
      "outputs": []
    },
    {
      "cell_type": "markdown",
      "source": [
        "Step 2: Use render_template()\n",
        "\n",
        "Flask provides the render_template() function (from flask) to render HTML files.\n",
        "\n",
        "Example app.py"
      ],
      "metadata": {
        "id": "mmovkzP8MO-s"
      }
    },
    {
      "cell_type": "code",
      "source": [
        "from flask import Flask, render_template\n",
        "\n",
        "app = Flask(__name__)\n",
        "\n",
        "@app.route('/')\n",
        "def home():\n",
        "    return render_template('index.html')\n",
        "\n",
        "@app.route('/about')\n",
        "def about():\n",
        "    return render_template('about.html')\n",
        "\n",
        "if __name__ == '__main__':\n",
        "    app.run(debug=True)\n"
      ],
      "metadata": {
        "id": "5vXVOWPhMTHH"
      },
      "execution_count": null,
      "outputs": []
    },
    {
      "cell_type": "markdown",
      "source": [
        "Step 3: Example Template (templates/index.html)"
      ],
      "metadata": {
        "id": "zQjkBHq-Mc_-"
      }
    },
    {
      "cell_type": "code",
      "source": [
        "<!DOCTYPE html>\n",
        "<html>\n",
        "<head>\n",
        "    <title>Flask Template Example</title>\n",
        "</head>\n",
        "<body>\n",
        "    <h1>Welcome to Flask!</h1>\n",
        "    <p>This is the home page.</p>\n",
        "</body>\n",
        "</html>\n"
      ],
      "metadata": {
        "id": "8u27L6S7Md_k"
      },
      "execution_count": null,
      "outputs": []
    },
    {
      "cell_type": "markdown",
      "source": [
        "Step 4: Passing Data to Templates\n",
        "\n",
        "You can pass variables into templates:"
      ],
      "metadata": {
        "id": "vUMsfIwGMgCV"
      }
    },
    {
      "cell_type": "code",
      "source": [
        "@app.route('/user/<name>')\n",
        "def user(name):\n",
        "    return render_template('user.html', username=name)\n"
      ],
      "metadata": {
        "id": "b-zQQJ3YMiR-"
      },
      "execution_count": null,
      "outputs": []
    },
    {
      "cell_type": "markdown",
      "source": [
        "Step 5: Jinja2 Template Features\n",
        "\n",
        "Flask templates use Jinja2 syntax:"
      ],
      "metadata": {
        "id": "bg4lEyUWMkw9"
      }
    },
    {
      "cell_type": "code",
      "source": [
        "<ul>\n",
        "{% for item in items %}\n",
        "    <li>{{ item }}</li>\n",
        "{% endfor %}\n",
        "</ul>\n"
      ],
      "metadata": {
        "id": "uuvsW4RtMpSH"
      },
      "execution_count": null,
      "outputs": []
    },
    {
      "cell_type": "markdown",
      "source": [
        "5-How can you generate URLs for routes in Flask using url_for."
      ],
      "metadata": {
        "id": "JsEPK4h7MrMH"
      }
    },
    {
      "cell_type": "markdown",
      "source": [
        "Ans-url_for() Basics\n",
        "\n",
        "url_for(endpoint, **values)\n",
        "\n",
        "endpoint → the name of the view function (not the URL string).\n",
        "\n",
        "values → arguments for any dynamic parts of the route.\n",
        "\n",
        "🔹 Example 1: Simple Route"
      ],
      "metadata": {
        "id": "YxYokeqfM1J1"
      }
    },
    {
      "cell_type": "code",
      "source": [
        "from flask import Flask, url_for\n",
        "\n",
        "app = Flask(__name__)\n",
        "\n",
        "@app.route('/')\n",
        "def home():\n",
        "    return 'Home Page'\n",
        "\n",
        "@app.route('/about')\n",
        "def about():\n",
        "    return 'About Page'\n",
        "\n",
        "with app.test_request_context():\n",
        "    print(url_for('home'))\n"
      ],
      "metadata": {
        "colab": {
          "base_uri": "https://localhost:8080/"
        },
        "id": "_0hdbTfgNCKF",
        "outputId": "13bf87b8-892a-4670-9e9d-211e1748f524"
      },
      "execution_count": null,
      "outputs": [
        {
          "output_type": "stream",
          "name": "stdout",
          "text": [
            "/\n"
          ]
        }
      ]
    },
    {
      "cell_type": "markdown",
      "source": [
        "🔹 Example 2: Dynamic Routes"
      ],
      "metadata": {
        "id": "HVgnLeCJNMK1"
      }
    },
    {
      "cell_type": "code",
      "source": [
        "@app.route('/user/<username>')\n",
        "def profile(username):\n",
        "    return f\"Profile: {username}\"\n",
        "\n",
        "with app.test_request_context():\n",
        "    print(url_for('profile', username='alice'))\n"
      ],
      "metadata": {
        "id": "tYYNGHdxNNwm"
      },
      "execution_count": null,
      "outputs": []
    },
    {
      "cell_type": "markdown",
      "source": [
        "Example 3: Adding Query Parameters"
      ],
      "metadata": {
        "id": "5Vv084E2NRp_"
      }
    },
    {
      "cell_type": "code",
      "source": [
        "with app.test_request_context():\n",
        "    print(url_for('about', lang='en'))\n",
        "\n"
      ],
      "metadata": {
        "id": "77uyH9VuNS7e"
      },
      "execution_count": null,
      "outputs": []
    },
    {
      "cell_type": "markdown",
      "source": [
        "Example 4: Use in Templates\n",
        "\n",
        "Instead of hardcoding links in HTML, use url_for()"
      ],
      "metadata": {
        "id": "8ilQ3Ju3NWqF"
      }
    },
    {
      "cell_type": "code",
      "source": [
        "<a href=\"{{ url_for('home') }}\">Home</a>\n",
        "<a href=\"{{ url_for('about') }}\">About</a>\n",
        "<a href=\"{{ url_for('profile', username='bob') }}\">Bob’s Profile</a>\n"
      ],
      "metadata": {
        "id": "X2q3KdEpNZXe"
      },
      "execution_count": null,
      "outputs": []
    },
    {
      "cell_type": "markdown",
      "source": [
        "6- How do you handle forms in Flask."
      ],
      "metadata": {
        "id": "CrfkbkA1NfPX"
      }
    },
    {
      "cell_type": "markdown",
      "source": [
        "Ans=Handling Forms in Flask\n",
        "\n",
        "There are two main parts:\n",
        "\n",
        "Creating an HTML form (frontend).\n",
        "\n",
        "Handling the form submission in Flask (backend).\n",
        "\n",
        "1. HTML Form Example (templates/form.html)"
      ],
      "metadata": {
        "id": "njGpiCaQNmTs"
      }
    },
    {
      "cell_type": "code",
      "source": [
        "<!DOCTYPE html>\n",
        "<html>\n",
        "<head>\n",
        "    <title>Flask Form Example</title>\n",
        "</head>\n",
        "<body>\n",
        "    <h1>Contact Form</h1>\n",
        "    <form method=\"POST\" action=\"{{ url_for('submit') }}\">\n",
        "        <label>Name:</label>\n",
        "        <input type=\"text\" name=\"name\"><br><br>\n",
        "\n",
        "        <label>Email:</label>\n",
        "        <input type=\"email\" name=\"email\"><br><br>\n",
        "\n",
        "        <input type=\"submit\" value=\"Submit\">\n",
        "    </form>\n",
        "</body>\n",
        "</html>\n"
      ],
      "metadata": {
        "id": "M25w2VD6Nn7-"
      },
      "execution_count": null,
      "outputs": []
    },
    {
      "cell_type": "markdown",
      "source": [
        "2. Flask App (app.py)"
      ],
      "metadata": {
        "id": "mpmcd89oNqjF"
      }
    },
    {
      "cell_type": "code",
      "source": [
        "from flask import Flask, render_template, request\n",
        "\n",
        "app = Flask(__name__)\n",
        "\n",
        "@app.route('/')\n",
        "def form():\n",
        "    return render_template('form.html')\n",
        "\n",
        "@app.route('/submit', methods=['POST'])\n",
        "def submit():\n",
        "    # Get form data from request\n",
        "    name = request.form['name']\n",
        "    email = request.form['email']\n",
        "    return f\"Received: {name}, {email}\"\n",
        "\n",
        "if __name__ == '__main__':\n",
        "    app.run(debug=True)\n"
      ],
      "metadata": {
        "id": "Ux1gRhGCNuUc"
      },
      "execution_count": null,
      "outputs": []
    },
    {
      "cell_type": "markdown",
      "source": [
        "7-How can you validate form data in Flask."
      ],
      "metadata": {
        "id": "tUwNlm2FNxw8"
      }
    },
    {
      "cell_type": "markdown",
      "source": [
        "Ans-1. Manual Validation (with request.form)\n",
        "\n",
        "You can add your own checks in the route:"
      ],
      "metadata": {
        "id": "qgdDQWxHN6wV"
      }
    },
    {
      "cell_type": "code",
      "source": [
        "from flask import Flask, render_template, request\n",
        "\n",
        "app = Flask(__name__)\n",
        "\n",
        "@app.route('/register', methods=['GET', 'POST'])\n",
        "def register():\n",
        "    error = None\n",
        "    if request.method == 'POST':\n",
        "        username = request.form.get('username')\n",
        "        email = request.form.get('email')\n",
        "\n",
        "\n",
        "        if not username or not email:\n",
        "            error = \"All fields are required!\"\n",
        "        elif \"@\" not in email:\n",
        "            error = \"Invalid email address!\"\n",
        "        else:\n",
        "            return f\"User {username} registered successfully with {email}\"\n",
        "\n",
        "    return render_template(\"register.html\", error=error)\n",
        "\n",
        "if __name__ == '__main__':\n",
        "    app.run(debug=True)\n"
      ],
      "metadata": {
        "id": "xH7kifRZOIRf"
      },
      "execution_count": null,
      "outputs": []
    },
    {
      "cell_type": "markdown",
      "source": [
        "2. Using Flask-WTF + WTForms (Recommended for larger apps)\n",
        "\n",
        "The Flask-WTF extension makes validation cleaner and more secure (includes CSRF protection automatically)."
      ],
      "metadata": {
        "id": "cv6ooO47OQf1"
      }
    },
    {
      "cell_type": "code",
      "source": [
        "pip install flask-wtf\n"
      ],
      "metadata": {
        "id": "JqsFb2m7OS82"
      },
      "execution_count": null,
      "outputs": []
    },
    {
      "cell_type": "markdown",
      "source": [
        "8-How do you manage sessions in Flask."
      ],
      "metadata": {
        "id": "7W-EvzvrOVLl"
      }
    },
    {
      "cell_type": "markdown",
      "source": [
        "Ans-Enabling Sessions in Flask\n",
        "\n",
        "You must set a secret key for security:"
      ],
      "metadata": {
        "id": "IbLtWoxtOgiO"
      }
    },
    {
      "cell_type": "code",
      "source": [
        "from flask import Flask, session, redirect, url_for, request\n",
        "\n",
        "app = Flask(__name__)\n",
        "app.secret_key = \"your-secret-key\"\n"
      ],
      "metadata": {
        "id": "wiFmueZjOs1t"
      },
      "execution_count": null,
      "outputs": []
    },
    {
      "cell_type": "markdown",
      "source": [
        "Storing & Accessing Session Data"
      ],
      "metadata": {
        "id": "zBma2LfcOxVX"
      }
    },
    {
      "cell_type": "code",
      "source": [
        "@app.route('/login', methods=['POST', 'GET'])\n",
        "def login():\n",
        "    if request.method == 'POST':\n",
        "        session['username'] = request.form['username']\n",
        "        return redirect(url_for('profile'))\n",
        "    return '''\n",
        "        <form method=\"post\">\n",
        "            <input type=\"text\" name=\"username\" placeholder=\"Enter username\">\n",
        "            <input type=\"submit\" value=\"Login\">\n",
        "        </form>\n",
        "    '''\n",
        "\n",
        "@app.route('/profile')\n",
        "def profile():\n",
        "    if 'username' in session:\n",
        "        return f\"Hello, {session['username']}!\"\n",
        "    return \"You are not logged in.\"\n"
      ],
      "metadata": {
        "id": "qfIMEQ2oOzwg"
      },
      "execution_count": null,
      "outputs": []
    },
    {
      "cell_type": "markdown",
      "source": [
        "9-How do you redirect to a different route in Flask."
      ],
      "metadata": {
        "id": "vDB8duSdO71O"
      }
    },
    {
      "cell_type": "markdown",
      "source": [
        "Ans-Example 1: Basic Redirect"
      ],
      "metadata": {
        "id": "EKoTt8mYPDDX"
      }
    },
    {
      "cell_type": "code",
      "source": [
        "from flask import Flask, redirect, url_for\n",
        "\n",
        "app = Flask(__name__)\n",
        "\n",
        "@app.route('/')\n",
        "def home():\n",
        "    return \"Welcome to the Home Page!\"\n",
        "\n",
        "@app.route('/redirect-me')\n",
        "def go_somewhere():\n",
        "    return redirect(url_for('home'))\n"
      ],
      "metadata": {
        "id": "Sq3CsOXUPJG4"
      },
      "execution_count": null,
      "outputs": []
    },
    {
      "cell_type": "markdown",
      "source": [
        "Example 2: Redirect After Login"
      ],
      "metadata": {
        "id": "Ph8t8Ap4POoO"
      }
    },
    {
      "cell_type": "code",
      "source": [
        "from flask import Flask, redirect, url_for, request, session\n",
        "\n",
        "app = Flask(__name__)\n",
        "app.secret_key = \"secret\"\n",
        "\n",
        "@app.route('/login', methods=['GET', 'POST'])\n",
        "def login():\n",
        "    if request.method == 'POST':\n",
        "        session['user'] = request.form['username']\n",
        "        return redirect(url_for('profile'))\n",
        "    return '''\n",
        "        <form method=\"post\">\n",
        "            <input type=\"text\" name=\"username\" placeholder=\"Enter Username\">\n",
        "            <input type=\"submit\" value=\"Login\">\n",
        "        </form>\n",
        "    '''\n",
        "\n",
        "@app.route('/profile')\n",
        "def profile():\n",
        "    if 'user' in session:\n",
        "        return f\"Hello, {session['user']}!\"\n",
        "    return redirect(url_for('login'))\n"
      ],
      "metadata": {
        "id": "bUqo3fjNPQfV"
      },
      "execution_count": null,
      "outputs": []
    },
    {
      "cell_type": "markdown",
      "source": [
        "10- How do you handle errors in Flask (e.g., 404)"
      ],
      "metadata": {
        "id": "Yi9kHswvPRrt"
      }
    },
    {
      "cell_type": "code",
      "source": [
        "Ans-Default Error Handling in Flask\n",
        "\n",
        "If something goes wrong, Flask automatically returns standard error pages:\n",
        "\n",
        "404 Not Found → when a route doesn’t exist\n",
        "\n",
        "500 Internal Server Error → when code crashes\n",
        "\n",
        "But you can customize these pages to show nicer error messages.\n",
        "\n",
        "🔹 1. Using errorhandler() Decorator\n",
        "\n",
        "You can define custom error handlers for specific status codes."
      ],
      "metadata": {
        "id": "OQFH44yePV21"
      },
      "execution_count": null,
      "outputs": []
    },
    {
      "cell_type": "code",
      "source": [
        "from flask import Flask, render_template\n",
        "\n",
        "app = Flask(__name__)\n",
        "\n",
        "@app.errorhandler(404)\n",
        "def page_not_found(error):\n",
        "    return render_template('404.html'), 404\n",
        "\n",
        "@app.errorhandler(500)\n",
        "def internal_error(error):\n",
        "    return render_template('500.html'), 500\n"
      ],
      "metadata": {
        "id": "CraBtVmZPbUG"
      },
      "execution_count": null,
      "outputs": []
    },
    {
      "cell_type": "markdown",
      "source": [
        "2. Using abort()"
      ],
      "metadata": {
        "id": "dREUTpWnPgo9"
      }
    },
    {
      "cell_type": "code",
      "source": [
        "from flask import abort\n",
        "\n",
        "@app.route('/admin')\n",
        "def admin():\n",
        "    abort(403)\n"
      ],
      "metadata": {
        "id": "IDyfjXWSPh2W"
      },
      "execution_count": null,
      "outputs": []
    },
    {
      "cell_type": "markdown",
      "source": [
        "3. Catching All Errors"
      ],
      "metadata": {
        "id": "EA_MbwrJPksX"
      }
    },
    {
      "cell_type": "code",
      "source": [
        "@app.errorhandler(Exception)\n",
        "def handle_exception(e):\n",
        "    return render_template(\"error.html\", error=str(e)), 500\n"
      ],
      "metadata": {
        "id": "ESNnlOwOPnX4"
      },
      "execution_count": null,
      "outputs": []
    },
    {
      "cell_type": "markdown",
      "source": [
        "4. JSON Error Responses (for APIs)"
      ],
      "metadata": {
        "id": "3yrkkhMzPpk2"
      }
    },
    {
      "cell_type": "code",
      "source": [
        "@app.errorhandler(404)\n",
        "def not_found(error):\n",
        "    return {\"error\": \"Not Found\"}, 404\n"
      ],
      "metadata": {
        "id": "8C9va9gWPsqu"
      },
      "execution_count": null,
      "outputs": []
    },
    {
      "cell_type": "markdown",
      "source": [
        "11-How do you structure a Flask app using Blueprints."
      ],
      "metadata": {
        "id": "mf3_VlA4Pu4d"
      }
    },
    {
      "cell_type": "markdown",
      "source": [
        "Ans1. Project Structure with Blueprints\n",
        "\n",
        "Example: Blog + Auth module"
      ],
      "metadata": {
        "id": "o2ltR5G-P25J"
      }
    },
    {
      "cell_type": "code",
      "source": [
        "project/\n",
        "│── app.py\n",
        "│── auth/\n",
        "│   │── __init__.py\n",
        "│   │── routes.py\n",
        "│── blog/\n",
        "│   │── __init__.py\n",
        "│   │── routes.py\n",
        "│── templates/\n",
        "│   │── base.html\n"
      ],
      "metadata": {
        "id": "0_JgRZ7TP929"
      },
      "execution_count": null,
      "outputs": []
    },
    {
      "cell_type": "markdown",
      "source": [
        "2. Creating a Blueprint"
      ],
      "metadata": {
        "id": "Zl5vdaNtQBc4"
      }
    },
    {
      "cell_type": "code",
      "source": [
        "from flask import Blueprint, render_template\n",
        "\n",
        "auth_bp = Blueprint('auth', __name__, url_prefix='/auth')\n",
        "\n",
        "@auth_bp.route('/login')\n",
        "def login():\n",
        "    return \"Login Page\"\n",
        "\n",
        "@auth_bp.route('/logout')\n",
        "def logout():\n",
        "    return \"Logout Page\"\n"
      ],
      "metadata": {
        "id": "wgR9IZgvQEiu"
      },
      "execution_count": null,
      "outputs": []
    },
    {
      "cell_type": "markdown",
      "source": [
        "3. Register Blueprints in Main App"
      ],
      "metadata": {
        "id": "EFTgjXXqQGmw"
      }
    },
    {
      "cell_type": "code",
      "source": [
        "from flask import Flask\n",
        "from auth.routes import auth_bp\n",
        "from blog.routes import blog_bp\n",
        "\n",
        "app = Flask(__name__)\n",
        "\n",
        "# Register blueprints\n",
        "app.register_blueprint(auth_bp)\n",
        "app.register_blueprint(blog_bp)\n",
        "\n",
        "@app.route('/')\n",
        "def index():\n",
        "    return \"Main Home Page\"\n",
        "\n",
        "if __name__ == '__main__':\n",
        "    app.run(debug=True)\n"
      ],
      "metadata": {
        "id": "O2mufEAyQJn9"
      },
      "execution_count": null,
      "outputs": []
    },
    {
      "cell_type": "markdown",
      "source": [
        "12-How do you define a custom Jinja filter in Flask."
      ],
      "metadata": {
        "id": "l26i_mpaQOI9"
      }
    },
    {
      "cell_type": "markdown",
      "source": [
        "Ans-Step 1: Define the Custom Filter\n",
        "\n",
        "You can define a Python function and register it with Flask’s Jinja environment."
      ],
      "metadata": {
        "id": "WAL4Cp6LQpJe"
      }
    },
    {
      "cell_type": "code",
      "source": [
        "from flask import Flask, render_template\n",
        "\n",
        "app = Flask(__name__)\n",
        "\n",
        "\n",
        "def reverse_string(s):\n",
        "    return s[::-1]\n",
        "\n",
        "\n",
        "app.jinja_env.filters['reverse'] = reverse_string\n"
      ],
      "metadata": {
        "id": "znVKOekbQwOd"
      },
      "execution_count": null,
      "outputs": []
    },
    {
      "cell_type": "markdown",
      "source": [
        "Step 2: Use the Filter in Templates\n",
        "Template (templates/index.html):"
      ],
      "metadata": {
        "id": "Xqo0vh4DQ0Ul"
      }
    },
    {
      "cell_type": "code",
      "source": [
        "<!DOCTYPE html>\n",
        "<html>\n",
        "<head>\n",
        "    <title>Custom Filter Example</title>\n",
        "</head>\n",
        "<body>\n",
        "    <h1>Original: {{ name }}</h1>\n",
        "    <h2>Reversed: {{ name|reverse }}</h2>\n",
        "</body>\n",
        "</html>\n"
      ],
      "metadata": {
        "id": "qtia-g3NQ35V"
      },
      "execution_count": null,
      "outputs": []
    },
    {
      "cell_type": "markdown",
      "source": [
        "Flask Route:"
      ],
      "metadata": {
        "id": "orcAltaxQ6VO"
      }
    },
    {
      "cell_type": "code",
      "source": [
        "@app.route('/')\n",
        "def home():\n",
        "    return render_template('index.html', name=\"Flask\")\n"
      ],
      "metadata": {
        "id": "TN_7qF2PQ91G"
      },
      "execution_count": null,
      "outputs": []
    },
    {
      "cell_type": "markdown",
      "source": [
        "13-How can you redirect with query parameters in Flask."
      ],
      "metadata": {
        "id": "w3NWDmo2Q_0P"
      }
    },
    {
      "cell_type": "markdown",
      "source": [
        "Ans-"
      ],
      "metadata": {
        "id": "ndaAbPe_RD_m"
      }
    },
    {
      "cell_type": "code",
      "source": [
        "from flask import Flask, redirect, url_for, request\n",
        "\n",
        "app = Flask(__name__)\n",
        "\n",
        "@app.route('/')\n",
        "def home():\n",
        "\n",
        "    return redirect(url_for('search', q='flask', page=2))\n",
        "\n",
        "@app.route('/search')\n",
        "def search():\n",
        "    query = request.args.get('q')\n",
        "    page = request.args.get('page')\n",
        "    return f\"Search results for: {query}, page: {page}\"\n"
      ],
      "metadata": {
        "id": "LA9TYwVA3LzY"
      },
      "execution_count": 1,
      "outputs": []
    },
    {
      "cell_type": "markdown",
      "source": [
        "14-How do you return JSON responses in Flask."
      ],
      "metadata": {
        "id": "_SZERO5H3TiW"
      }
    },
    {
      "cell_type": "markdown",
      "source": [
        "Ans-"
      ],
      "metadata": {
        "id": "kFXphwPe3fNd"
      }
    },
    {
      "cell_type": "code",
      "source": [
        "from flask import Flask, jsonify\n",
        "\n",
        "app = Flask(__name__)\n",
        "\n",
        "@app.route('/api/data')\n",
        "def get_data():\n",
        "    data = {\n",
        "        \"name\": \"Flask\",\n",
        "        \"type\": \"Web framework\",\n",
        "        \"version\": 2.3\n",
        "    }\n",
        "    return jsonify(data)\n"
      ],
      "metadata": {
        "id": "lUcVH2zV3kCE"
      },
      "execution_count": null,
      "outputs": []
    },
    {
      "cell_type": "markdown",
      "source": [
        "15- How do you capture URL parameters in Flask."
      ],
      "metadata": {
        "id": "n7em43LD3lQV"
      }
    },
    {
      "cell_type": "code",
      "source": [
        "from flask import Flask\n",
        "\n",
        "app = Flask(__name__)\n",
        "\n",
        "@app.route('/user/<username>')\n",
        "def show_user(username):\n",
        "    return f\"Hello, {username}!\"\n"
      ],
      "metadata": {
        "id": "q8gwtVqi3uo0"
      },
      "execution_count": 3,
      "outputs": []
    }
  ]
}